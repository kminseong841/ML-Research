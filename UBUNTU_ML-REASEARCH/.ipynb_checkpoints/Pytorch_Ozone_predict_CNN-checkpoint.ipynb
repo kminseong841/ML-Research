{
 "cells": [
  {
   "cell_type": "code",
   "execution_count": 6,
   "metadata": {
    "id": "BrDlU628SyXp"
   },
   "outputs": [],
   "source": [
    "# CSV 파일 불러오기\n",
    "# for vs code\n",
    "file_path1 = 'data/Meteorological_2019_01.csv'\n",
    "file_path2 = 'data/seoul_air_2019_01.csv'\n",
    "xtest_path = 'data/Meteorological_2020_01.csv'\n",
    "ytest_path = 'data/seoul_air_2020_01.csv'"
   ]
  },
  {
   "cell_type": "code",
   "execution_count": 7,
   "metadata": {
    "executionInfo": {
     "elapsed": 356,
     "status": "ok",
     "timestamp": 1732462112856,
     "user": {
      "displayName": "김민성",
      "userId": "02286963189810455058"
     },
     "user_tz": -540
    },
    "id": "aAcVxxjBv7tE"
   },
   "outputs": [
    {
     "name": "stderr",
     "output_type": "stream",
     "text": [
      "2024-11-26 18:38:17.117363: I tensorflow/core/util/port.cc:153] oneDNN custom operations are on. You may see slightly different numerical results due to floating-point round-off errors from different computation orders. To turn them off, set the environment variable `TF_ENABLE_ONEDNN_OPTS=0`.\n",
      "2024-11-26 18:38:17.569562: E external/local_xla/xla/stream_executor/cuda/cuda_fft.cc:477] Unable to register cuFFT factory: Attempting to register factory for plugin cuFFT when one has already been registered\n",
      "WARNING: All log messages before absl::InitializeLog() is called are written to STDERR\n",
      "E0000 00:00:1732613897.749514    2061 cuda_dnn.cc:8310] Unable to register cuDNN factory: Attempting to register factory for plugin cuDNN when one has already been registered\n",
      "E0000 00:00:1732613897.888731    2061 cuda_blas.cc:1418] Unable to register cuBLAS factory: Attempting to register factory for plugin cuBLAS when one has already been registered\n",
      "2024-11-26 18:38:18.448594: I tensorflow/core/platform/cpu_feature_guard.cc:210] This TensorFlow binary is optimized to use available CPU instructions in performance-critical operations.\n",
      "To enable the following instructions: AVX2 AVX512F AVX512_VNNI FMA, in other operations, rebuild TensorFlow with the appropriate compiler flags.\n"
     ]
    }
   ],
   "source": [
    "import numpy as np\n",
    "import pandas as pd\n",
    "import tensorflow as tf\n",
    "import matplotlib.pyplot as plt\n",
    "from pandas.tseries.offsets import MonthEnd\n",
    "from sklearn.preprocessing import MinMaxScaler, StandardScaler, QuantileTransformer\n",
    "from sklearn.model_selection import train_test_split\n",
    "from tensorflow.keras import callbacks\n",
    "from tensorflow.keras.models import Sequential\n",
    "from tensorflow.keras.layers import Dense, Flatten, Conv3D, MaxPooling3D, Lambda\n",
    "from sklearn.model_selection import train_test_split, GridSearchCV\n",
    "from scikeras.wrappers import KerasRegressor"
   ]
  },
  {
   "cell_type": "code",
   "execution_count": 8,
   "metadata": {
    "id": "PUSQNvga2THf"
   },
   "outputs": [],
   "source": [
    "# 각 위도와 경도를 그리드 좌표로 변환하는 함수\n",
    "def latlon_to_grid(lat, lon, lat_min, lat_max, lon_min, lon_max, grid_size=32):\n",
    "    # 위도와 경도를 32x32 그리드 좌표로 변환\n",
    "    row = int((lat - lat_min) / (lat_max - lat_min) * (grid_size - 1))\n",
    "    col = int((lon - lon_min) / (lon_max - lon_min) * (grid_size - 1))\n",
    "    return row, col"
   ]
  },
  {
   "cell_type": "code",
   "execution_count": 9,
   "metadata": {
    "id": "KYJgHwwcY-ei"
   },
   "outputs": [],
   "source": [
    "# 서울시의 위도와 경도 범위 설정\n",
    "seoul_lat_min, seoul_lat_max = 37.4133, 37.7151  # 남북 경계 위도\n",
    "seoul_lon_min, seoul_lon_max = 126.7341, 127.2693  # 동서 경계 경도\n",
    "\n",
    "# 'Meteorological data' 측정 지역의 위도와 경도 정보\n",
    "met_regions_data = {\n",
    "    'region': ['강남', '서초', '강동', '송파', '강서', '양천', '도봉', '노원', '동대문', '중랑', '기상청', '마포', '서대문', '광진',\n",
    "               '성북', '용산', '은평', '금천', '한강', '중구', '성동', '구로', '강북*', '남현', '관악', '영등포', '현충원'],\n",
    "    'latitude': [37.49794, 37.47650, 37.53010, 37.51456, 37.55095, 37.51656, 37.66877, 37.65526, 37.57491, 37.59508, 37.56556,\n",
    "                 37.56632, 37.57655, 37.53865, 37.58968, 37.53110, 37.60277, 37.45686, 37.52770, 37.56382, 37.56351, 37.49543,\n",
    "                 37.646995, 37.46769, 37.47808, 37.52667, 37.50001],\n",
    "    'longitude': [127.02761, 127.03250, 127.12587, 127.10662, 126.84953, 126.86658, 127.04744, 127.07712, 127.03963, 127.09368, 126.96691,\n",
    "                  126.90131, 126.93784, 127.08237, 127.01667, 126.97960, 126.93040, 126.89576, 126.99818, 126.99760, 127.03722, 126.88740,\n",
    "                  127.01371, 126.95818, 126.95143, 126.89636, 126.97422]\n",
    "}\n",
    "\n",
    "# DataFrame 생성\n",
    "met_regions_df = pd.DataFrame(met_regions_data)\n",
    "# row, col 행 추가\n",
    "met_regions_df[['row', 'col']] = met_regions_df.apply(\n",
    "    lambda r: pd.Series(\n",
    "        latlon_to_grid(r['latitude'], r['longitude'], seoul_lat_min, seoul_lat_max, seoul_lon_min, seoul_lon_max)\n",
    "        ),axis = 1\n",
    "        )\n",
    "\n",
    "# '서울시 대기질 데이터' 각 구의 위도와 경도 정보\n",
    "air_regions_data = {\n",
    "    'region': ['종로구', '용산구', '중구', '은평구', '서대문구', '마포구', '광진구', '노원구', '중랑구', '도봉구',\n",
    "               '성북구', '성동구', '강북구', '동대문구', '동작구', '영등포구', '강서구', '관악구', '양천구', '구로구',\n",
    "               '금천구', '강남구', '서초구', '강동구', '송파구'],\n",
    "    'latitude': [37.573050, 37.531100, 37.563820, 37.602770, 37.576550, 37.566320, 37.538650, 37.655260, 37.595080, 37.668770,\n",
    "                 37.589680, 37.563510, 37.646995, 37.574910, 37.512410, 37.526670, 37.550950, 37.478080, 37.516560, 37.495430,\n",
    "                 37.456860, 37.497940, 37.476500, 37.530100, 37.514560],\n",
    "    'longitude': [126.979340, 126.979600, 126.997600, 126.930400, 126.937840, 126.901310, 127.082370, 127.077120, 127.093680, 127.047440,\n",
    "                  127.016670, 127.037220, 127.013710, 127.039630, 126.941040, 126.896360, 126.849530, 126.951430, 126.866580, 126.887400,\n",
    "                  126.895760, 127.027610, 127.032500, 127.125870, 127.106620]\n",
    "}\n",
    "\n",
    "# DataFrame 생성\n",
    "air_regions_df = pd.DataFrame(air_regions_data)\n",
    "# row, col 행 추가\n",
    "air_regions_df[['row', 'col']] = air_regions_df.apply(\n",
    "    lambda r: pd.Series(\n",
    "        latlon_to_grid(r['latitude'], r['longitude'], seoul_lat_min, seoul_lat_max, seoul_lon_min, seoul_lon_max)\n",
    "        ),axis = 1\n",
    "        )"
   ]
  },
  {
   "cell_type": "code",
   "execution_count": 10,
   "metadata": {
    "id": "Pw9UVpuzFrJD"
   },
   "outputs": [],
   "source": [
    "# 전처리1: CSV 파일 특정 column만 불러오기\n",
    "def read_processing(f1, f2):\n",
    "    df1 = pd.read_csv(f1, usecols=lambda column: column != '지점', encoding='cp949')\n",
    "    df2 = pd.read_csv(f2, usecols = ['측정일시', '측정소명', '오존(ppm)'], encoding='cp949')\n",
    "    df2 = df2[['측정소명', '측정일시', '오존(ppm)']]\n",
    "    return df1, df2\n",
    "\n",
    "# 전처리2: 날짜 및 시간 데이터 변형\n",
    "def time_processing(df1, df2):\n",
    "    # df1의 '일시' 컬럼을 datetime 형식으로 변환\n",
    "    df1['일시'] = pd.to_datetime(df1['일시'])\n",
    "\n",
    "    # df2의 '측정일시' 컬럼을 datetime 형식으로 변환\n",
    "    df2['측정일시'] = pd.to_datetime(df2['측정일시'], format='%Y%m%d%H%M')\n",
    "\n",
    "    # df2를 정렬 (인플레이스)\n",
    "    df2.sort_values(by=['측정소명', '측정일시'], inplace=True)\n",
    "\n",
    "    # 인덱스 재설정 (인플레이스)\n",
    "    df2.reset_index(drop=True, inplace=True)\n"
   ]
  },
  {
   "cell_type": "code",
   "execution_count": 11,
   "metadata": {
    "id": "HrV6thoL9jqq"
   },
   "outputs": [],
   "source": [
    "# ------------------------------------------------------------------\n",
    "# 전처리3: 누락된 부분 interpolation\n",
    "# ------------------------------------------------------------------\n",
    "def interpol_processing(df, cols):\n",
    "    # 변수 설정\n",
    "    specific_date = df.iloc[0]['일시']\n",
    "    start_date = specific_date.replace(day=1, hour=0, minute=0, second=0, microsecond=0)\n",
    "    end_date = (start_date+MonthEnd(0)).replace(hour=23, minute=0, second=0, microsecond=0)\n",
    "    print(start_date, end_date)\n",
    "\n",
    "    # 전체 시간 범위 생성\n",
    "    full_range = pd.date_range(start=start_date, end=end_date, freq='h')\n",
    "\n",
    "    # 모든 지점명 가져오기\n",
    "    stations = df['지점명'].unique()\n",
    "\n",
    "    # 결측된 부분의 record 추가\n",
    "    new_index = pd.MultiIndex.from_product([stations, full_range], names=['지점명', '일시'])\n",
    "    df.set_index(['지점명', '일시'], inplace=True)\n",
    "    df = df.reindex(new_index).reset_index()\n",
    "\n",
    "    # 결측치 제거 알고리즘\n",
    "    # 방법1) 평균값 입력\n",
    "    means = df.groupby('일시')[cols].mean().reset_index()\n",
    "    # 평균값을 원본 데이터프레임에 병합\n",
    "    df = df.merge(means, on='일시', suffixes=('', '_mean'))\n",
    "    # 결측치를 다른 지점들의 평균값으로 대체\n",
    "    for col in cols:\n",
    "        df[col] = df[col].fillna(df[col + '_mean'])\n",
    "\n",
    "   # 임시로 생성된 평균값 열 삭제\n",
    "    df.drop(columns=[col + '_mean' for col in cols], inplace=True)\n",
    "\n",
    "    # 방법2) 아직 결측치가 남아있는 경우, 같은 지점에서 시간적으로 보간\n",
    "    # '일시'를 인덱스로 설정하고 시간 순서대로 정렬\n",
    "    df.set_index('일시', inplace=True)\n",
    "    df.sort_index(inplace=True)\n",
    "    # 그룹별로 보간 수행\n",
    "    for station in df['지점명'].unique():\n",
    "        station_df = df[df['지점명'] == station]\n",
    "        station_df = station_df.sort_index()\n",
    "        for col in cols:\n",
    "            station_df[col] = station_df[col].interpolate(method='time')\n",
    "            station_df[col] = station_df[col].ffill()  # 앞의 값으로 채움\n",
    "            station_df[col] = station_df[col].bfill()  # 뒤의 값으로 채움\n",
    "        df.loc[df['지점명'] == station, cols] = station_df[cols]\n",
    "\n",
    "    # df를 정렬\n",
    "    df.reset_index(inplace=True)\n",
    "    df.sort_values(by=['지점명', '일시'], inplace=True)\n",
    "    df.reset_index(drop=True, inplace=True)\n",
    "\n",
    "    return df"
   ]
  },
  {
   "cell_type": "code",
   "execution_count": 12,
   "metadata": {
    "executionInfo": {
     "elapsed": 328,
     "status": "ok",
     "timestamp": 1732462289442,
     "user": {
      "displayName": "김민성",
      "userId": "02286963189810455058"
     },
     "user_tz": -540
    },
    "id": "L-GGKCeUxnHf"
   },
   "outputs": [],
   "source": [
    "# 전처리4: 표준화\n",
    "def scaling(df, columns_to_scal):\n",
    "  scaler = MinMaxScaler()\n",
    "  scaler.fit(df[columns_to_scal])\n",
    "  df[columns_to_scal] = scaler.transform(df[columns_to_scal])\n",
    "\n",
    "  return scaler\n",
    "\n",
    "def log_scaling(df, columns_to_scal, epsilon_ls):\n",
    "  i = 0\n",
    "  for col in columns_to_scal:\n",
    "    df[col] = df[col] * 1 # log scaling효과가 커지게 하기 위해 조정\n",
    "    # epsilon을 더해 로그 변환 수행\n",
    "    df[col] = np.log(df[col] + epsilon_ls[i])\n",
    "    i+=1\n",
    "\n",
    "  return epsilon_ls\n",
    "\n",
    "\n",
    "from scipy import stats\n",
    "\n",
    "def boxcox_scaling(df, columns_to_scal, scale_factor=1):\n",
    "  lst = []\n",
    "  for col in columns_to_scal:\n",
    "    min_value = df[col].min()\n",
    "    shift = 1 - min_value\n",
    "    if(min_value<=0): # boxcos transform은 양수에 대해서만 적용가능하다.\n",
    "      df[col] = df[col] + shift\n",
    "\n",
    "    df[col] = df[col] * scale_factor\n",
    "    df[col], fitted_lambda = stats.boxcox(df[col])\n",
    "    lst.append(fitted_lambda)\n",
    "\n",
    "  lambda_lst = np.array(lst)\n",
    "\n",
    "  return lambda_lst, shift\n",
    "\n",
    "def standard_scaling(df, columns_to_scal):\n",
    "  scaler = StandardScaler()\n",
    "  scaler.fit(df[columns_to_scal])\n",
    "  df[columns_to_scal] = scaler.transform(df[columns_to_scal])\n",
    "\n",
    "  return scaler\n",
    "\n",
    "def quantile_scaling(df, columns_to_scal):\n",
    "  scaler = QuantileTransformer(output_distribution='normal', random_state=0)\n",
    "  scaler.fit(df[columns_to_scal])\n",
    "  df[columns_to_scal] = scaler.transform(df[columns_to_scal])\n",
    "\n",
    "  return scaler\n"
   ]
  },
  {
   "cell_type": "code",
   "execution_count": 13,
   "metadata": {
    "id": "4fSFDEKgcJUJ"
   },
   "outputs": [],
   "source": [
    "# 전처리5: 매핑\n",
    "def map_processing(df1, df2, grid_data, label_grid_data, time_stamp, f_cols):\n",
    "    time_size = 3\n",
    "    n_day = len(df1['일시'].unique())\n",
    "    n_f = len(f_cols)\n",
    "\n",
    "    # 기상 데이터 그리드 좌표 변환\n",
    "    regions = met_regions_df['region'].unique()\n",
    "    dates = df1['일시'].unique()\n",
    "\n",
    "    for region in regions:\n",
    "        grid_row = met_regions_df.loc[met_regions_df['region'] == region, 'row'].values[0]\n",
    "        grid_col = met_regions_df.loc[met_regions_df['region'] == region, 'col'].values[0]\n",
    "        met_sub_data = df1.loc[df1['지점명'] == region]\n",
    "\n",
    "        # 시각별 데이터 할당\n",
    "        # 0번째 시각\n",
    "        grid_data[0, 0, grid_row, grid_col, 0:n_f] = met_sub_data.iloc[0][f_cols]\n",
    "        grid_data[0, 1, grid_row, grid_col, 0:n_f] = met_sub_data.iloc[0][f_cols]\n",
    "        grid_data[0, 2, grid_row, grid_col, 0:n_f] = met_sub_data.iloc[0][f_cols]\n",
    "        # 1번째 시각\n",
    "        grid_data[1, 0, grid_row, grid_col, 0:n_f] = met_sub_data.iloc[0][f_cols]\n",
    "        grid_data[1, 1, grid_row, grid_col, 0:n_f] = met_sub_data.iloc[1][f_cols]\n",
    "        grid_data[1, 2, grid_row, grid_col, 0:n_f] = met_sub_data.iloc[1][f_cols]\n",
    "        # 2번째 시각\n",
    "        grid_data[2, 0, grid_row, grid_col, 0:n_f] = met_sub_data.iloc[0][f_cols]\n",
    "        grid_data[2, 1, grid_row, grid_col, 0:n_f] = met_sub_data.iloc[1][f_cols]\n",
    "        grid_data[2, 2, grid_row, grid_col, 0:n_f] = met_sub_data.iloc[2][f_cols]\n",
    "\n",
    "        #3번째~n_day-1까지 시각\n",
    "        for date_index, date in enumerate(dates):\n",
    "            if(date_index == n_day - time_size):\n",
    "                break\n",
    "            i_data = date_index+time_size # 3개의 시간대로 1개의 시간예측\n",
    "            grid_data[i_data, 0:time_size, grid_row, grid_col, 0:n_f] = met_sub_data.iloc[date_index:date_index+time_size][f_cols]\n",
    "\n",
    "\n",
    "    # 오염물질 농도 매핑\n",
    "    label_regions = air_regions_df['region'].unique()\n",
    "    label_dates = df2['측정일시'].unique()\n",
    "\n",
    "    for region in label_regions:\n",
    "        l_grid_row = air_regions_df.loc[air_regions_df['region'] == region, 'row'].values[0]\n",
    "        l_grid_col = air_regions_df.loc[air_regions_df['region'] == region, 'col'].values[0]\n",
    "        air_sub_data = df2.loc[df2['측정소명']==region]\n",
    "\n",
    "        # 시각별 데이터 할당\n",
    "        for date_index, date in enumerate(label_dates):\n",
    "            i_data = date_index\n",
    "            label_grid_data[i_data, 0, l_grid_row, l_grid_col, 0] = air_sub_data.iloc[date_index]['오존(ppm)']\n",
    "            time_stamp[i_data] = date # 현재 기록되는 오존값이 어느 시점의 오존 값인지 기록\n",
    "\n",
    "\n",
    "    # 오존 feature 추가\n",
    "    r_lst = air_regions_df['row'].tolist()\n",
    "    c_lst = air_regions_df['col'].tolist()\n",
    "    for i in range(len(r_lst)):\n",
    "        r = r_lst[i]\n",
    "        c = c_lst[i]\n",
    "\n",
    "        # 데이터 할당\n",
    "        # ex. grid_data: [0번째 데이터, 0번째시각, row=r, col = c, 1번째 feature]\n",
    "        # ex label_grid_data: [0번째 데이터, 0번째 시각(단일시각), row=r, col=c, 0번쨰 feature(오존)]\n",
    "        # grid_data는 각 데이터에 3개의 시각 저장, label_grid_data는 각 데이터의 1개의 시각 저장\n",
    "\n",
    "        # 0번째 데이터\n",
    "        grid_data[0, 0, r, c, n_f] = label_grid_data[0, 0, r, c, 0]\n",
    "        grid_data[0, 1, r, c, n_f] = label_grid_data[0, 0, r, c, 0]\n",
    "        grid_data[0, 2, r, c, n_f] = label_grid_data[0, 0, r, c, 0]\n",
    "        # 1번째 데이터\n",
    "        grid_data[1, 0, r, c, n_f] = label_grid_data[1, 0, r, c, 0]\n",
    "        grid_data[1, 1, r, c, n_f] = label_grid_data[1, 0, r, c, 0]\n",
    "        grid_data[1, 2, r, c, n_f] = label_grid_data[1, 0, r, c, 0]\n",
    "        # 2번째 데이터\n",
    "        grid_data[2, 0, r, c, n_f] = label_grid_data[0, 0, r, c, 0]\n",
    "        grid_data[2, 1, r, c, n_f] = label_grid_data[1, 0, r, c, 0]\n",
    "        grid_data[2, 2, r, c, n_f] = label_grid_data[2, 0, r, c, 0]\n",
    "\n",
    "        #3번째~n_day-1 데이터\n",
    "        for date_index in range(n_day - time_size):\n",
    "            i_data = date_index+time_size # 3개의 시간대로 1개의 시간예측\n",
    "            grid_data[i_data, 0:time_size, r, c, n_f] = label_grid_data[date_index:date_index+time_size, 0, r, c, 0]"
   ]
  },
  {
   "cell_type": "code",
   "execution_count": 14,
   "metadata": {
    "colab": {
     "base_uri": "https://localhost:8080/"
    },
    "executionInfo": {
     "elapsed": 757,
     "status": "ok",
     "timestamp": 1732462347505,
     "user": {
      "displayName": "김민성",
      "userId": "02286963189810455058"
     },
     "user_tz": -540
    },
    "id": "lAte_e7utQHq",
    "outputId": "b3248f0b-61f1-4cd2-a743-d993a7f5d334",
    "scrolled": true
   },
   "outputs": [
    {
     "name": "stdout",
     "output_type": "stream",
     "text": [
      "2019-01-01 00:00:00 2019-01-31 23:00:00\n"
     ]
    }
   ],
   "source": [
    "# 변수 초기화\n",
    "time_size = 3\n",
    "grid_size = 32\n",
    "feature_cols = ['기온(°C)']\n",
    "n_features = len(feature_cols)\n",
    "grid_data = np.zeros((744, time_size, grid_size, grid_size, n_features+1))\n",
    "label_grid_data = np.zeros((744, 1, grid_size, grid_size, 1))\n",
    "time_stamp = np.empty(744, dtype='datetime64[m]')\n",
    "\n",
    "# Data PreProcessing\n",
    "met_data, air_quality_data = read_processing(file_path1, file_path2)\n",
    "time_processing(met_data, air_quality_data)\n",
    "met_data = interpol_processing(met_data, feature_cols)\n",
    "#scaling\n",
    "x_train_scaler = scaling(met_data, feature_cols) # scaling\n",
    "y_qt_scaler = quantile_scaling(air_quality_data, ['오존(ppm)'])\n",
    "# y_sd_scaler = standard_scaling(air_quality_data,['오존(ppm)'])\n",
    "# y_train_lambda, y_train_shift = boxcox_scaling(air_quality_data, ['오존(ppm)'])\n",
    "y_train_scaler = scaling(air_quality_data, ['오존(ppm)']) # scaling"
   ]
  },
  {
   "cell_type": "code",
   "execution_count": 15,
   "metadata": {
    "executionInfo": {
     "elapsed": 15445,
     "status": "ok",
     "timestamp": 1732462364766,
     "user": {
      "displayName": "김민성",
      "userId": "02286963189810455058"
     },
     "user_tz": -540
    },
    "id": "i7l7n2Vb3G1k"
   },
   "outputs": [],
   "source": [
    "map_processing(met_data, air_quality_data, grid_data, label_grid_data, time_stamp, feature_cols)\n",
    "\n",
    "# train, test split\n",
    "label_grid_data = label_grid_data.reshape(label_grid_data.shape[0],-1)\n",
    "xtrain, xvalid, ytrain, yvalid = train_test_split(\n",
    "    grid_data, label_grid_data, train_size=0.7, test_size=0.3, random_state=99\n",
    "    )"
   ]
  },
  {
   "cell_type": "code",
   "execution_count": 16,
   "metadata": {
    "colab": {
     "base_uri": "https://localhost:8080/"
    },
    "executionInfo": {
     "elapsed": 328,
     "status": "ok",
     "timestamp": 1732462417888,
     "user": {
      "displayName": "김민성",
      "userId": "02286963189810455058"
     },
     "user_tz": -540
    },
    "id": "YDhDfsP3mC_N",
    "outputId": "59d27032-95b5-4d0b-d896-088979872649"
   },
   "outputs": [
    {
     "name": "stdout",
     "output_type": "stream",
     "text": [
      "2020-01-01 00:00:00 2020-01-31 23:00:00\n",
      "                       일시  지점명    기온(°C)  강수량(mm)  습도(%)\n",
      "0     2020-01-01 00:00:00   강남  0.388889      0.0   42.0\n",
      "1     2020-01-01 01:00:00   강남  0.393162      0.0   43.0\n",
      "2     2020-01-01 02:00:00   강남  0.401709      0.0   47.0\n",
      "3     2020-01-01 03:00:00   강남  0.397436      0.0   50.0\n",
      "4     2020-01-01 04:00:00   강남  0.405983      0.0   55.0\n",
      "...                   ...  ...       ...      ...    ...\n",
      "20083 2020-01-31 19:00:00  현충원  0.782051      0.0   71.0\n",
      "20084 2020-01-31 20:00:00  현충원  0.739316      0.0   73.0\n",
      "20085 2020-01-31 21:00:00  현충원  0.662393      0.0   84.0\n",
      "20086 2020-01-31 22:00:00  현충원  0.564103      0.0   92.0\n",
      "20087 2020-01-31 23:00:00  현충원  0.559829      0.0   92.0\n",
      "\n",
      "[20088 rows x 5 columns]\n",
      "      측정소명                측정일시   오존(ppm)\n",
      "0      강남구 2020-01-01 00:00:00  0.437615\n",
      "1      강남구 2020-01-01 01:00:00  0.394204\n",
      "2      강남구 2020-01-01 02:00:00  0.394204\n",
      "3      강남구 2020-01-01 03:00:00  0.455647\n",
      "4      강남구 2020-01-01 04:00:00  0.394204\n",
      "...    ...                 ...       ...\n",
      "18595  중랑구 2020-01-31 19:00:00  0.551179\n",
      "18596  중랑구 2020-01-31 20:00:00  0.516244\n",
      "18597  중랑구 2020-01-31 21:00:00  0.510517\n",
      "18598  중랑구 2020-01-31 22:00:00  0.504707\n",
      "18599  중랑구 2020-01-31 23:00:00  0.485223\n",
      "\n",
      "[18600 rows x 3 columns]\n"
     ]
    }
   ],
   "source": [
    "# loading test_data\n",
    "te_grid_data = np.zeros((744, time_size, grid_size, grid_size, n_features+1))\n",
    "te_label_grid_data = np.zeros((744, 1, grid_size, grid_size, 1))\n",
    "te_time_stamp = np.empty(744, dtype='datetime64[m]')\n",
    "\n",
    "# Data PreProcessing\n",
    "te_met_data, te_air_quality_data = read_processing(xtest_path, ytest_path)\n",
    "time_processing(te_met_data, te_air_quality_data)\n",
    "te_met_data = interpol_processing(df=te_met_data, cols=feature_cols)\n",
    "te_met_data[feature_cols] = x_train_scaler.transform(te_met_data[feature_cols]) # scaling\n",
    "te_air_quality_data[['오존(ppm)']] = y_qt_scaler.transform(te_air_quality_data[['오존(ppm)']])\n",
    "# te_air_quality_data[['오존(ppm)']] = y_sd_scaler.transform(te_air_quality_data[['오존(ppm)']])\n",
    "# te_air_quality_data['오존(ppm)'] = te_air_quality_data['오존(ppm)'] + y_train_shift\n",
    "# te_air_quality_data['오존(ppm)'] = stats.boxcox(te_air_quality_data['오존(ppm)'], lmbda=y_train_lambda)\n",
    "te_air_quality_data[['오존(ppm)']] = y_train_scaler.transform(te_air_quality_data[['오존(ppm)']]) # scaling\n",
    "\n",
    "print(te_met_data)\n",
    "print(te_air_quality_data)"
   ]
  },
  {
   "cell_type": "code",
   "execution_count": 17,
   "metadata": {
    "executionInfo": {
     "elapsed": 13322,
     "status": "ok",
     "timestamp": 1732462439179,
     "user": {
      "displayName": "김민성",
      "userId": "02286963189810455058"
     },
     "user_tz": -540
    },
    "id": "WFcRNuPU4aVV"
   },
   "outputs": [],
   "source": [
    "map_processing(te_met_data, te_air_quality_data, te_grid_data, te_label_grid_data, te_time_stamp, feature_cols)\n",
    "\n",
    "# save test_data\n",
    "xtest = te_grid_data\n",
    "ytest = te_label_grid_data.reshape(te_label_grid_data.shape[0], -1)"
   ]
  },
  {
   "cell_type": "code",
   "execution_count": 18,
   "metadata": {
    "colab": {
     "base_uri": "https://localhost:8080/",
     "height": 607
    },
    "executionInfo": {
     "elapsed": 851,
     "status": "ok",
     "timestamp": 1732462484657,
     "user": {
      "displayName": "김민성",
      "userId": "02286963189810455058"
     },
     "user_tz": -540
    },
    "id": "eGSQHiOvI6Xr",
    "outputId": "c25c16f4-05e9-4703-bbb4-520e150c0c75"
   },
   "outputs": [
    {
     "data": {
      "image/png": "[encoded data removed]",
      "text/plain": [
       "<Figure size 1500x600 with 2 Axes>"
      ]
     },
     "metadata": {},
     "output_type": "display_data"
    }
   ],
   "source": [
    "import matplotlib.pyplot as plt\n",
    "\n",
    "# 서브플롯 생성 (1행 2열)\n",
    "fig, axes = plt.subplots(1, 2, figsize=(15, 6))\n",
    "\n",
    "# 첫 번째 히스토그램 그리기\n",
    "air_quality_data['오존(ppm)'].hist(ax=axes[0], bins=150, edgecolor='black')\n",
    "axes[0].set_title('train_O3 Distribution')\n",
    "axes[0].set_xlabel('O3')\n",
    "axes[0].set_ylabel('Frequency')\n",
    "axes[0].grid(False)\n",
    "\n",
    "# 두 번째 히스토그램 그리기\n",
    "te_air_quality_data['오존(ppm)'].hist(ax=axes[1], bins=150, edgecolor='black')\n",
    "axes[1].set_title('test_O3 Distribution')\n",
    "axes[1].set_xlabel('O3')\n",
    "axes[1].set_ylabel('Frequency')\n",
    "axes[1].grid(False)\n",
    "\n",
    "# 그래프 간격 조정 (선택 사항)\n",
    "plt.tight_layout()\n",
    "\n",
    "# 그래프 표시\n",
    "plt.show()"
   ]
  },
  {
   "cell_type": "code",
   "execution_count": 19,
   "metadata": {
    "id": "kNWRVMn7-KpR"
   },
   "outputs": [],
   "source": [
    "# bit_mask 제작\n",
    "def create_mask(df):\n",
    "  mask = np.zeros((32,32), dtype=np.float32)\n",
    "  r_lst = df['row'].tolist()\n",
    "  c_lst = df['col'].tolist()\n",
    "  for i in range(len(r_lst)):\n",
    "    row = r_lst[i]\n",
    "    col = c_lst[i]\n",
    "    mask[row, col] = 1\n",
    "  return mask\n",
    "\n",
    "\n",
    "bit_mask = create_mask(air_regions_df)"
   ]
  },
  {
   "cell_type": "code",
   "execution_count": 1,
   "metadata": {
    "id": "0cmWnfDe3C3u"
   },
   "outputs": [],
   "source": [
    "import torch\n",
    "import torch.nn as nn\n",
    "import torch.nn.functional as F\n",
    "from torch.utils.data import TensorDataset, DataLoader\n",
    "from torch.optim import Adam"
   ]
  },
  {
   "cell_type": "code",
   "execution_count": 2,
   "metadata": {
    "id": "8a7G_susMZmP"
   },
   "outputs": [],
   "source": [
    "class OzoneModel(nn.Module):\n",
    "  def __init__(self, n_filter1, n_filter2, dense_units, mask_ts, n_channels):\n",
    "    super(OzoneModel, self).__init__()\n",
    "\n",
    "    self.conv1 = nn.Conv3d(\n",
    "            in_channels=n_channels,\n",
    "            out_channels=n_filter1,\n",
    "            kernel_size=(2, 3, 3)\n",
    "            )\n",
    "\n",
    "    self.pool1 = nn.MaxPool3d(kernel_size=(1,2,2))\n",
    "\n",
    "    self.conv2 = nn.Conv3d(\n",
    "        in_channels = n_filter1,\n",
    "        out_channels = n_filter2,\n",
    "        kernel_size = (2,3,3)\n",
    "    )\n",
    "\n",
    "    self.pool2 = nn.MaxPool3d(kernel_size=(1,2,2))\n",
    "\n",
    "    self.flatten = nn.Flatten()\n",
    "    self.fc1 = nn.Linear(in_features=n_filter2 * 1 * 6 * 6, out_features=dense_units)\n",
    "    self.fc2 = nn.Linear(in_features=dense_units, out_features=32 * 32)\n",
    "\n",
    "\n",
    "     # 마스크 등록 (평탄화된 형태)\n",
    "    mask_ts = torch.tensor(mask_ts, dtype=torch.float32)\n",
    "    mask_flat = mask_ts.view(-1)  # (1024,)\n",
    "    self.register_buffer('mask', mask_flat)  # 마스크 등록\n",
    "\n",
    "  def forward(self, x):\n",
    "    x = F.relu(self.conv1(x))\n",
    "    x = self.pool1(x)\n",
    "    x = F.relu(self.conv2(x))\n",
    "    x = self.pool2(x)\n",
    "    x = self.flatten(x)\n",
    "    x = self.fc1(x)\n",
    "    x = self.fc2(x)\n",
    "    x = x * self.mask\n",
    "\n",
    "    return x\n",
    "\n",
    "  def update_prediction(self, pred):\n",
    "    self.prediction = pred"
   ]
  },
  {
   "cell_type": "code",
   "execution_count": 3,
   "metadata": {
    "executionInfo": {
     "elapsed": 346,
     "status": "ok",
     "timestamp": 1732460452826,
     "user": {
      "displayName": "김민성",
      "userId": "02286963189810455058"
     },
     "user_tz": -540
    },
    "id": "a5iWPfyqSChk"
   },
   "outputs": [],
   "source": [
    "# 모델 학습 함수\n",
    "def train_model(model, train_data, valid_data, criterion, optimizer, epochs, patience, device='cuda' if torch.cuda.is_available() else 'cpu'):\n",
    "  model.to(device)\n",
    "\n",
    "  # for early stopping\n",
    "  best_val_loss = float('inf')\n",
    "  best_val_metric = float('inf')\n",
    "  epochs_no_improve = 0\n",
    "  best_model_state = None\n",
    "\n",
    "  for epoch in range(epochs):\n",
    "    model.train()\n",
    "    train_loss_per_batch = 0.0\n",
    "    train_metric_per_batch = 0.0\n",
    "\n",
    "    # training (per batch)\n",
    "    for inputs, targets in train_data:\n",
    "      inputs = inputs.to(device)\n",
    "      targets = targets.to(device)\n",
    "\n",
    "      optimizer.zero_grad()\n",
    "      pred = model(inputs)\n",
    "      loss = criterion(pred, targets)\n",
    "      loss.backward()\n",
    "      optimizer.step()\n",
    "      mae = torch.mean(torch.abs(pred-targets))\n",
    "\n",
    "      train_loss_per_batch += loss.item()*inputs.size(0)\n",
    "      train_metric_per_batch += mae.item()*inputs.size(0)\n",
    "\n",
    "    train_loss = train_loss_per_batch / len(train_data.dataset)\n",
    "    train_metric = train_metric_per_batch / len(train_data.dataset)\n",
    "\n",
    "\n",
    "    # evaluate (per batch)\n",
    "    model.eval()\n",
    "    val_loss_per_batch = 0.0\n",
    "    val_metric_per_batch = 0.0\n",
    "\n",
    "    with torch.no_grad():\n",
    "      for inputs, targets in valid_data:\n",
    "        inputs = inputs.to(device)\n",
    "        targets = targets.to(device)\n",
    "        pred = model(inputs)\n",
    "        loss = criterion(pred, targets)\n",
    "        mae = torch.mean(torch.abs(pred-targets))\n",
    "\n",
    "        val_loss_per_batch += loss.item() / inputs.size(0)\n",
    "        val_metric_per_batch += mae.item() / inputs.size(0)\n",
    "\n",
    "    val_loss = val_loss_per_batch * len(valid_data.dataset)\n",
    "    val_metric = val_metric_per_batch * len(valid_data.dataset)\n",
    "\n",
    "    print(f'Epoch {epoch+1}/{epochs} | Train MSE: {train_loss:.4f} | Train MAE: {train_metric:.4f} | Val MSE: {val_loss:.4f}| Val MAE: {val_metric:.4f}')\n",
    "\n",
    "    # Early Stopping 체크 (둘 다 증가하지 않으면 학습을 멈춘다.)\n",
    "    if val_loss < best_val_loss or val_metric < best_val_metric:\n",
    "        if val_loss < best_val_loss:\n",
    "            best_val_loss = val_loss\n",
    "        if val_metric < best_val_metric:\n",
    "            best_val_metric = val_metric\n",
    "        epochs_no_improve = 0\n",
    "        best_model_state = model.state_dict()\n",
    "    else:\n",
    "        epochs_no_improve += 1\n",
    "        if epochs_no_improve >= patience:\n",
    "            print('Early stopping!')\n",
    "            break\n",
    "\n",
    "  # 베스트 모델 로드\n",
    "  if best_model_state is not None:\n",
    "      model.load_state_dict(best_model_state)\n",
    "\n",
    "  return model\n"
   ]
  },
  {
   "cell_type": "code",
   "execution_count": 4,
   "metadata": {
    "executionInfo": {
     "elapsed": 4,
     "status": "ok",
     "timestamp": 1732460454097,
     "user": {
      "displayName": "김민성",
      "userId": "02286963189810455058"
     },
     "user_tz": -540
    },
    "id": "FvW6DDT8_Jc7"
   },
   "outputs": [],
   "source": [
    "# 모델 평가 함수\n",
    "def evaluate_model(model, test_data, criterion, device='cuda' if torch.cuda.is_available() else 'cpu'):\n",
    "    model.to(device)\n",
    "    model.eval()\n",
    "    test_loss_per_batch = 0.0\n",
    "    test_mae_per_batch = 0.0\n",
    "\n",
    "    with torch.no_grad():\n",
    "        for inputs, targets in test_data:\n",
    "            inputs = inputs.to(device)\n",
    "            targets = targets.to(device)\n",
    "\n",
    "            pred = model(inputs)\n",
    "            loss = criterion(pred, targets)\n",
    "            mae = torch.mean(torch.abs(pred-targets))\n",
    "\n",
    "            test_loss_per_batch += loss.item() * inputs.size(0)\n",
    "            test_mae_per_batch += mae.item() * inputs.size(0)\n",
    "\n",
    "    test_loss = test_loss_per_batch / len(test_data.dataset)\n",
    "    test_mae = test_mae_per_batch / len(test_data.dataset)\n",
    "\n",
    "    print(f'Test MSE: {test_loss:.4f}, Test MAE: {test_mae:.4f}')\n",
    "\n",
    "    return test_loss, test_mae\n"
   ]
  },
  {
   "cell_type": "code",
   "execution_count": 20,
   "metadata": {
    "executionInfo": {
     "elapsed": 321,
     "status": "ok",
     "timestamp": 1732460465845,
     "user": {
      "displayName": "김민성",
      "userId": "02286963189810455058"
     },
     "user_tz": -540
    },
    "id": "iAyMg8kMPPRB"
   },
   "outputs": [],
   "source": [
    "# 예측 수행 함수 정의\n",
    "def predict(model, data_loader, device='cuda' if torch.cuda.is_available() else 'cpu'):\n",
    "    model.to(device)\n",
    "    model.eval()\n",
    "\n",
    "    all_predictions = []\n",
    "\n",
    "    with torch.no_grad():\n",
    "        for batch in data_loader:\n",
    "            inputs = batch[0].to(device)  # TensorDataset의 경우 batch는 튜플 형태\n",
    "            outputs = model(inputs)\n",
    "            predictions = outputs.cpu().numpy()\n",
    "            all_predictions.append(predictions)\n",
    "\n",
    "    # 모든 배치의 예측을 하나의 배열로 합침\n",
    "    all_predictions = np.concatenate(all_predictions, axis=0)\n",
    "    return all_predictions"
   ]
  },
  {
   "cell_type": "code",
   "execution_count": 21,
   "metadata": {
    "executionInfo": {
     "elapsed": 525,
     "status": "ok",
     "timestamp": 1732462443879,
     "user": {
      "displayName": "김민성",
      "userId": "02286963189810455058"
     },
     "user_tz": -540
    },
    "id": "QfZXDL8GA412"
   },
   "outputs": [],
   "source": [
    "# 데이터 텐서로 변환 및 데이터로더 생성\n",
    "xtrain = np.transpose(xtrain, (0,4,1,2,3))\n",
    "xvalid = np.transpose(xvalid, (0,4,1,2,3))\n",
    "xtest = np.transpose(xtest, (0,4,1,2,3))\n",
    "\n",
    "xtrain_tensor = torch.tensor(xtrain, dtype=torch.float32)\n",
    "ytrain_tensor = torch.tensor(ytrain, dtype=torch.float32)\n",
    "xvalid_tensor = torch.tensor(xvalid, dtype=torch.float32)\n",
    "yvalid_tensor = torch.tensor(yvalid, dtype=torch.float32)\n",
    "xtest_tensor = torch.tensor(xtest, dtype=torch.float32)\n",
    "ytest_tensor = torch.tensor(ytest, dtype=torch.float32)\n",
    "\n",
    "train_dataset = TensorDataset(xtrain_tensor, ytrain_tensor)\n",
    "valid_dataset = TensorDataset(xvalid_tensor, yvalid_tensor)\n",
    "test_dataset = TensorDataset(xtest_tensor, ytest_tensor)\n",
    "\n",
    "train_loader = DataLoader(train_dataset, batch_size=16, shuffle=True)\n",
    "valid_loader = DataLoader(valid_dataset, batch_size=16, shuffle=False)\n",
    "test_loader = DataLoader(test_dataset, batch_size=16, shuffle=False)"
   ]
  },
  {
   "cell_type": "code",
   "execution_count": 22,
   "metadata": {
    "colab": {
     "base_uri": "https://localhost:8080/"
    },
    "executionInfo": {
     "elapsed": 12294,
     "status": "ok",
     "timestamp": 1732462532209,
     "user": {
      "displayName": "김민성",
      "userId": "02286963189810455058"
     },
     "user_tz": -540
    },
    "id": "RgglDhhRBNw8",
    "outputId": "1c96b70d-ef52-4911-eac1-e1faf1aad158"
   },
   "outputs": [
    {
     "name": "stdout",
     "output_type": "stream",
     "text": [
      "Epoch 1/30 | Train MSE: 0.0018 | Train MAE: 0.0051 | Val MSE: 0.0475| Val MAE: 0.3799\n",
      "Epoch 2/30 | Train MSE: 0.0002 | Train MAE: 0.0018 | Val MSE: 0.0352| Val MAE: 0.3250\n",
      "Epoch 3/30 | Train MSE: 0.0002 | Train MAE: 0.0016 | Val MSE: 0.0324| Val MAE: 0.3092\n",
      "Epoch 4/30 | Train MSE: 0.0002 | Train MAE: 0.0016 | Val MSE: 0.0301| Val MAE: 0.2943\n",
      "Epoch 5/30 | Train MSE: 0.0002 | Train MAE: 0.0015 | Val MSE: 0.0253| Val MAE: 0.2644\n",
      "Epoch 6/30 | Train MSE: 0.0001 | Train MAE: 0.0014 | Val MSE: 0.0230| Val MAE: 0.2483\n",
      "Epoch 7/30 | Train MSE: 0.0001 | Train MAE: 0.0013 | Val MSE: 0.0211| Val MAE: 0.2311\n",
      "Epoch 8/30 | Train MSE: 0.0001 | Train MAE: 0.0013 | Val MSE: 0.0193| Val MAE: 0.2177\n",
      "Epoch 9/30 | Train MSE: 0.0001 | Train MAE: 0.0012 | Val MSE: 0.0187| Val MAE: 0.2113\n",
      "Epoch 10/30 | Train MSE: 0.0001 | Train MAE: 0.0011 | Val MSE: 0.0172| Val MAE: 0.1967\n",
      "Epoch 11/30 | Train MSE: 0.0001 | Train MAE: 0.0011 | Val MSE: 0.0182| Val MAE: 0.2070\n",
      "Epoch 12/30 | Train MSE: 0.0001 | Train MAE: 0.0011 | Val MSE: 0.0158| Val MAE: 0.1853\n",
      "Epoch 13/30 | Train MSE: 0.0001 | Train MAE: 0.0011 | Val MSE: 0.0160| Val MAE: 0.1836\n",
      "Epoch 14/30 | Train MSE: 0.0001 | Train MAE: 0.0010 | Val MSE: 0.0152| Val MAE: 0.1789\n",
      "Epoch 15/30 | Train MSE: 0.0001 | Train MAE: 0.0010 | Val MSE: 0.0148| Val MAE: 0.1723\n",
      "Epoch 16/30 | Train MSE: 0.0001 | Train MAE: 0.0010 | Val MSE: 0.0144| Val MAE: 0.1691\n",
      "Epoch 17/30 | Train MSE: 0.0001 | Train MAE: 0.0010 | Val MSE: 0.0167| Val MAE: 0.1925\n",
      "Epoch 18/30 | Train MSE: 0.0001 | Train MAE: 0.0010 | Val MSE: 0.0140| Val MAE: 0.1643\n",
      "Epoch 19/30 | Train MSE: 0.0001 | Train MAE: 0.0010 | Val MSE: 0.0139| Val MAE: 0.1614\n",
      "Epoch 20/30 | Train MSE: 0.0001 | Train MAE: 0.0009 | Val MSE: 0.0141| Val MAE: 0.1660\n",
      "Epoch 21/30 | Train MSE: 0.0001 | Train MAE: 0.0009 | Val MSE: 0.0140| Val MAE: 0.1649\n",
      "Epoch 22/30 | Train MSE: 0.0001 | Train MAE: 0.0009 | Val MSE: 0.0141| Val MAE: 0.1670\n",
      "Epoch 23/30 | Train MSE: 0.0001 | Train MAE: 0.0009 | Val MSE: 0.0155| Val MAE: 0.1835\n",
      "Epoch 24/30 | Train MSE: 0.0001 | Train MAE: 0.0009 | Val MSE: 0.0130| Val MAE: 0.1536\n",
      "Epoch 25/30 | Train MSE: 0.0001 | Train MAE: 0.0009 | Val MSE: 0.0134| Val MAE: 0.1581\n",
      "Epoch 26/30 | Train MSE: 0.0001 | Train MAE: 0.0009 | Val MSE: 0.0133| Val MAE: 0.1572\n",
      "Epoch 27/30 | Train MSE: 0.0001 | Train MAE: 0.0009 | Val MSE: 0.0136| Val MAE: 0.1611\n",
      "Epoch 28/30 | Train MSE: 0.0001 | Train MAE: 0.0009 | Val MSE: 0.0133| Val MAE: 0.1564\n",
      "Epoch 29/30 | Train MSE: 0.0001 | Train MAE: 0.0009 | Val MSE: 0.0129| Val MAE: 0.1528\n",
      "Epoch 30/30 | Train MSE: 0.0001 | Train MAE: 0.0009 | Val MSE: 0.0129| Val MAE: 0.1529\n",
      "Test MSE: 0.0001, Test MAE: 0.0010\n",
      "MSE: 0.00010848191525456645, MAE: 0.0010376000333757651\n"
     ]
    }
   ],
   "source": [
    "# 모델 생성, 학습, 평가\n",
    "model = OzoneModel(n_filter1 = 32, n_filter2 = 128, dense_units=64, mask_ts = bit_mask, n_channels = n_features+1)\n",
    "trained_model = train_model(\n",
    "    model = model,\n",
    "    train_data = train_loader,\n",
    "    valid_data = valid_loader,\n",
    "    criterion = nn.MSELoss(),\n",
    "    optimizer = Adam(model.parameters(), lr=1e-4),\n",
    "    epochs = 30,\n",
    "    patience = 10\n",
    ")\n",
    "\n",
    "score = evaluate_model(model = trained_model, test_data=test_loader, criterion=nn.MSELoss())\n",
    "print(f\"MSE: {score[0]}, MAE: {score[1]}\")"
   ]
  },
  {
   "cell_type": "code",
   "execution_count": null,
   "metadata": {
    "id": "W8ZCHXV9vPmE"
   },
   "outputs": [],
   "source": [
    "# HyperParameter Tuning\n",
    "# oz_model = KerasRegressor(model=create_model, verbose = 0)\n",
    "#\n",
    "# hyper = {\n",
    "#     'model__n_filter1':[32,64],\n",
    "#     'model__n_filter2':[64,128],\n",
    "#     'model__dense_units':[128,64]\n",
    "# }\n",
    "#\n",
    "# gs = GridSearchCV(oz_model, hyper, cv = 3)\n",
    "#\n",
    "# # 모델 학습\n",
    "# gs.fit(xtrain, ytrain, verbose = 2, epochs=10, batch_size = 16)\n",
    "\n",
    "# gs.best_params_\n",
    "# gs.best_score_\n",
    "\n",
    "# HyperParameter Tuning시\n",
    "# model = create_model(\n",
    "    # n_filter1 = gs.best_params_['model__n_filter1'], n_filter2 = gs.best_params_['model__n_filter2'], dense_units = gs.best_params_['model__dense_units'])"
   ]
  },
  {
   "cell_type": "code",
   "execution_count": 23,
   "metadata": {
    "executionInfo": {
     "elapsed": 412,
     "status": "ok",
     "timestamp": 1732462687190,
     "user": {
      "displayName": "김민성",
      "userId": "02286963189810455058"
     },
     "user_tz": -540
    },
    "id": "pkmPhUsgPKhu"
   },
   "outputs": [],
   "source": [
    "# 시각화 코드\n",
    "# 시각화를 위한 함수 정의\n",
    "def plot_ozone_maps(index, g_data, prediction):\n",
    "    # 시각화할 데이터 차원 변경\n",
    "    ground_truth = g_data.reshape(-1, grid_size, grid_size)\n",
    "    prediction = prediction.reshape(-1,32,32)\n",
    "    error = ground_truth - prediction  # shape: [744, 32, 32]\n",
    "\n",
    "    # 데이터 추출\n",
    "    gt = ground_truth[index]  # 실제 값\n",
    "    pred = prediction[index]  # 예측 값\n",
    "    err = np.abs(error[index])  # 에러\n",
    "\n",
    "    # 플롯 설정\n",
    "    fig, axes = plt.subplots(1, 3, figsize=(18, 6))\n",
    "\n",
    "    # Ground Truth 시각화\n",
    "    im1 = axes[0].imshow(gt, cmap='viridis', interpolation='nearest')\n",
    "    axes[0].set_title('Ground Truth')\n",
    "    plt.colorbar(im1, ax=axes[0])\n",
    "\n",
    "    # Prediction 시각화\n",
    "    im2 = axes[1].imshow(pred, cmap='viridis', interpolation='nearest')\n",
    "    axes[1].set_title('Prediction')\n",
    "    plt.colorbar(im2, ax=axes[1])\n",
    "\n",
    "    # Error 시각화\n",
    "    im3 = axes[2].imshow(err, cmap='bwr', interpolation='nearest')\n",
    "    axes[2].set_title('Error (Ground Truth - Prediction)')\n",
    "    plt.colorbar(im3, ax=axes[2])\n",
    "\n",
    "    # 공통 설정\n",
    "    for ax in axes:\n",
    "        ax.set_xticks([])\n",
    "        ax.set_yticks([])\n",
    "\n",
    "    data_date = te_time_stamp[index].astype(str)\n",
    "\n",
    "    # 전체 제목 설정\n",
    "    fig.suptitle(data_date, fontsize=16)\n",
    "    plt.tight_layout()\n",
    "    plt.show()"
   ]
  },
  {
   "cell_type": "code",
   "execution_count": 24,
   "metadata": {
    "colab": {
     "base_uri": "https://localhost:8080/",
     "height": 549
    },
    "executionInfo": {
     "elapsed": 819,
     "status": "ok",
     "timestamp": 1732462689522,
     "user": {
      "displayName": "김민성",
      "userId": "02286963189810455058"
     },
     "user_tz": -540
    },
    "id": "LTxk2wQInEoM",
    "outputId": "72d476b1-8720-4199-98c8-13fc54d7a03c"
   },
   "outputs": [
    {
     "data": {
      "image/png": "[encoded data removed]",
      "text/plain": [
       "<Figure size 1800x600 with 6 Axes>"
      ]
     },
     "metadata": {},
     "output_type": "display_data"
    }
   ],
   "source": [
    "# train prediction 시각화\n",
    "pred = predict(model=trained_model, data_loader = train_loader)\n",
    "plot_ozone_maps(index=500, g_data=ytrain, prediction = pred)"
   ]
  },
  {
   "cell_type": "code",
   "execution_count": 25,
   "metadata": {
    "colab": {
     "base_uri": "https://localhost:8080/",
     "height": 549
    },
    "executionInfo": {
     "elapsed": 900,
     "status": "ok",
     "timestamp": 1732462696585,
     "user": {
      "displayName": "김민성",
      "userId": "02286963189810455058"
     },
     "user_tz": -540
    },
    "id": "xfDI8n4w_lOY",
    "outputId": "aecc13b6-7715-4911-e7d7-827ee5f2dfd4"
   },
   "outputs": [
    {
     "data": {
      "image/png": "[encoded data removed]",
      "text/plain": [
       "<Figure size 1800x600 with 6 Axes>"
      ]
     },
     "metadata": {},
     "output_type": "display_data"
    }
   ],
   "source": [
    "# test prediction 시각화\n",
    "pred = predict(model=trained_model, data_loader = test_loader)\n",
    "plot_ozone_maps(index=700, g_data=ytest, prediction=pred)"
   ]
  },
  {
   "cell_type": "code",
   "execution_count": null,
   "metadata": {
    "id": "f-lNuCtsI_10"
   },
   "outputs": [],
   "source": []
  }
 ],
 "metadata": {
  "accelerator": "GPU",
  "colab": {
   "gpuType": "T4",
   "provenance": []
  },
  "kernelspec": {
   "display_name": "Python 3 (ipykernel)",
   "language": "python",
   "name": "python3"
  },
  "language_info": {
   "codemirror_mode": {
    "name": "ipython",
    "version": 3
   },
   "file_extension": ".py",
   "mimetype": "text/x-python",
   "name": "python",
   "nbconvert_exporter": "python",
   "pygments_lexer": "ipython3",
   "version": "3.12.3"
  }
 },
 "nbformat": 4,
 "nbformat_minor": 4
}
